{
 "cells": [
  {
   "cell_type": "code",
   "execution_count": null,
   "metadata": {},
   "outputs": [],
   "source": [
    "# import moxing as mox\n",
    "# # mox.file.copy_parallel('s3://obs-aifood-bj4/aifood',\n",
    "# # 's3://obs-aifood-huqi88/aifood')\n",
    "# mox.file.copy_parallel('s3://obs-aifood-huqi88/aifood','./aifoodtest/')\n",
    "# print('Copy procedure is completed !')\n"
   ]
  },
  {
   "cell_type": "code",
   "execution_count": null,
   "metadata": {},
   "outputs": [],
   "source": [
    "# import os\n",
    "# import subprocess\n",
    "# import time\n",
    "# from glob import glob\n",
    "# f=open(\"./aifood/meta/labels_10c.txt\",\"r\")\n",
    "# names = locals()\n",
    "# DATA_DIR = '/data-for-gen'\n",
    "# # 我们使用1/9的数据作为验证集：\n",
    "# val_split = 1/9\n",
    "# data_glob = glob('./aifood/images/*/*.jpg')\n",
    "# _index = int(len(data_glob)/10 * val_split)\n",
    "# print(_index)\n",
    "\n",
    "# if os.path.exists(DATA_DIR) == False:\n",
    "#     def gen_lnk_cmds(class_name, class_glob):\n",
    "#         cmds = ''\n",
    "#         print(range(len(class_glob)))\n",
    "#         for _i in range(len(class_glob)):\n",
    "#             time.sleep(1/20)\n",
    "#             filename = os.path.basename(class_glob[_i])\n",
    "\n",
    "#             src_path = os.path.realpath(class_glob[_i])\n",
    "#             sample_type = 'train' if _i > _index else 'val'\n",
    "#             lnk_path = os.path.realpath('./{}/{}/{}/{}'.format(DATA_DIR,sample_type, class_name, filename))\n",
    "# #             print(lnk_path)\n",
    "#             cmds = cmds + 'ln -s {} {}\\n'.format(src_path, lnk_path)\n",
    "# #             print(cmds)\n",
    "\n",
    "#         return cmds\n",
    "#     for index,i in enumerate(f):\n",
    "#         print(i.strip())\n",
    "#         name=i.strip()\n",
    "#         path = '/train/'+name\n",
    "#         valpath = '/val/'+name\n",
    "#         print(path)\n",
    "#         print(DATA_DIR)\n",
    "#         print(path)\n",
    "#         # 打印文件目录\n",
    "#         print(\"当前项目路径：\" + os.getcwd())\n",
    "\n",
    "#         # 获取到当前文件的目录，并检查是否有 directory_time 文件夹，如果不存在则自动新建 directory_time 文件\n",
    "#         try:\n",
    "#             File_Path =   os.getcwd() + DATA_DIR +  path \n",
    "#             Val_Path =  os.getcwd() + DATA_DIR +  valpath \n",
    "#             print(File_Path)\n",
    "#             # 判断是否已经存在该目录\n",
    "#             if not os.path.exists(File_Path):\n",
    "#                 # 目录不存在，进行创建操作\n",
    "#                 os.makedirs(File_Path) #使用os.makedirs()方法创建多层目录\n",
    "#                 print(\"目录新建成功：\" + File_Path)\n",
    "#             else:\n",
    "#                 print(\"目录已存在！！！\")\n",
    "#             if not os.path.exists(Val_Path):\n",
    "#                 # 目录不存在，进行创建操作\n",
    "#                 os.makedirs(Val_Path) #使用os.makedirs()方法创建多层目录\n",
    "#                 print(\"目录新建成功：\" + Val_Path)\n",
    "#             else:\n",
    "#                 print(\"目录已存在！！！\")\n",
    "#         except BaseException as msg:\n",
    "#             print(\"新建目录失败：\" + msg)\n",
    "\n",
    "#         names['i' + str(i)+'_glob'] = glob('./aifood/images/'+name+'/*.jpg')\n",
    "#         print('i' + str(index) +'_glob') \n",
    "        \n",
    "#         print('prepare {} images for data augumentation'.format(name))\n",
    "#         with open('./tmp_gen_i{}.sh'.format(index), 'w') as f:\n",
    "# #             print(names.get('i' + str(i)+'_glob'))\n",
    "#             link_cmds = gen_lnk_cmds(name, names.get('i' + str(i)+'_glob'))\n",
    "           \n",
    "#             f.write(link_cmds)\n",
    "#             time.sleep(1)\n",
    "#             subprocess.run(['sh', './tmp_gen_i{}.sh'.format(index)])\n",
    "#             time.sleep(1)\n",
    "#             subprocess.run(['rm', './tmp_gen_i{}.sh'.format(index)])\n",
    "        \n",
    "\n"
   ]
  },
  {
   "cell_type": "code",
   "execution_count": null,
   "metadata": {},
   "outputs": [],
   "source": [
    "# from PIL import Image\n",
    "# import os \n",
    "# import glob \n",
    "\n",
    "\n",
    "# def get_image_paths(folder): \n",
    "#     return glob.glob(os.path.join(folder, '*/*.jpg')) \n",
    "\n",
    "# def create_read_img(filename): \n",
    "#     #读取图像\n",
    "#     im = Image.open(filename)\n",
    "#     im_resized = im.resize((128, 128))\n",
    "#     out_h = im.transpose(Image.FLIP_LEFT_RIGHT)\n",
    "#     out_w = im.transpose(Image.FLIP_TOP_BOTTOM)\n",
    "#     out_90 = im.transpose(Image.ROTATE_90)\n",
    "#     out_180 = im.transpose(Image.ROTATE_180)\n",
    "#     out_270 = im.transpose(Image.ROTATE_270)\n",
    "#     out_resize = im_resized\n",
    "    \n",
    "#     out_h.save(filename[:-4]+'_h.jpg')\n",
    "#     out_w.save(filename[:-4]+'_w.jpg')\n",
    "#     out_90.save(filename[:-4]+'_90.jpg')\n",
    "#     out_180.save(filename[:-4]+'_180.jpg')\n",
    "#     out_270.save(filename[:-4]+'_270.jpg')\n",
    "#     out_resize.save(filename[:-4]+'_128.jpg')\n",
    "#     print(filename)\n",
    "    \n",
    "# img_path = './data-for-gen/train/' \n",
    "# imgs = get_image_paths(img_path) \n",
    "\n",
    "# for i in imgs: \n",
    "#     create_read_img(i)"
   ]
  },
  {
   "cell_type": "code",
   "execution_count": 1,
   "metadata": {},
   "outputs": [],
   "source": [
    "\n",
    "from __future__ import print_function, division\n",
    "\n",
    "import torch\n",
    "import torch.nn as nn\n",
    "import torch.optim as optim\n",
    "from torch.optim import lr_scheduler\n",
    "from torch.autograd import Variable\n",
    "import torchvision\n",
    "from torchvision import datasets, models, transforms\n",
    "import time\n",
    "import os\n"
   ]
  },
  {
   "cell_type": "code",
   "execution_count": 2,
   "metadata": {},
   "outputs": [
    {
     "name": "stdout",
     "output_type": "stream",
     "text": [
      "{'train': 31080, 'val': 560}\n"
     ]
    }
   ],
   "source": [
    "dataTrans = transforms.Compose([\n",
    "            transforms.Resize(256),\n",
    "            transforms.CenterCrop(224),\n",
    "            transforms.ToTensor(),\n",
    "            transforms.Normalize([0.5, 0.5, 0.5], [0.5, 0.5, 0.5])\n",
    "        ])\n",
    " \n",
    "    # image data path\n",
    "# data_dir = './aifood/images'\n",
    "# all_image_datasets = datasets.ImageFolder(data_dir, dataTrans)\n",
    "# #print(all_image_datasets.class_to_idx)    \n",
    "# trainsize = int(0.8*len(all_image_datasets))\n",
    "# testsize = len(all_image_datasets) - trainsize\n",
    "# train_dataset, test_dataset = torch.utils.data.random_split(all_image_datasets,[trainsize,testsize])\n",
    "\n",
    "train_dir = './data-for-gen/train'\n",
    "train_dataset = datasets.ImageFolder(train_dir, dataTrans)\n",
    "test_dir = './data-for-gen/val'\n",
    "test_dataset = datasets.ImageFolder(test_dir, dataTrans)\n",
    "image_datasets = {'train':train_dataset,'val':test_dataset}\n",
    "    \n",
    "\n",
    "    # wrap your data and label into Tensor\n",
    "\n",
    "    \n",
    "dataloders = {x: torch.utils.data.DataLoader(image_datasets[x],\n",
    "                                                 batch_size=32,\n",
    "                                                 shuffle=True,\n",
    "                                                 num_workers=4) for x in ['train', 'val']}\n",
    "\n",
    "dataset_sizes = {x: len(image_datasets[x]) for x in ['train', 'val']}\n",
    "print(dataset_sizes)\n",
    "    # use gpu or not\n",
    "use_gpu = torch.cuda.is_available()"
   ]
  },
  {
   "cell_type": "code",
   "execution_count": 3,
   "metadata": {},
   "outputs": [],
   "source": [
    "def train_model(model, lossfunc, optimizer, scheduler, num_epochs=25):\n",
    "    start_time = time.time()\n",
    "\n",
    "    best_model_wts = model.state_dict()\n",
    "    best_acc = 0.0\n",
    "    train_acc = []\n",
    "    valid_acc = []\n",
    "\n",
    "    for epoch in range(num_epochs):\n",
    "        print('Epoch {}/{}'.format(epoch, num_epochs - 1))\n",
    "        print('-' * 10)\n",
    "\n",
    "        # Each epoch has a training and validation phase\n",
    "        for phase in ['train', 'val']:\n",
    "            if phase == 'train':\n",
    "                scheduler.step(0)\n",
    "                model.train(True)  # Set model to training mode\n",
    "            else:\n",
    "                model.train(False)  # Set model to evaluate mode\n",
    "\n",
    "            running_loss = 0.0\n",
    "            running_corrects = 0.0\n",
    "\n",
    "            # Iterate over data.\n",
    "            for data in dataloders[phase]:\n",
    "                # get the inputs\n",
    "                inputs, labels = data\n",
    "                \n",
    "\n",
    "                # wrap them in Variable\n",
    "                if use_gpu:\n",
    "                    inputs = Variable(inputs.cuda())\n",
    "                    labels = Variable(labels.cuda())\n",
    "                else:\n",
    "                    inputs, labels = Variable(inputs), Variable(labels)\n",
    "\n",
    "                # zero the parameter gradients\n",
    "                optimizer.zero_grad()\n",
    "\n",
    "                # forward\n",
    "                outputs = model(inputs)\n",
    "                _, preds = torch.max(outputs.data, 1)\n",
    "                loss = lossfunc(outputs, labels)\n",
    "\n",
    "                # backward + optimize only if in training phase\n",
    "                if phase == 'train':\n",
    "                    loss.backward()\n",
    "                    optimizer.step()\n",
    "\n",
    "                # statistics\n",
    "                running_loss += loss.data\n",
    "                running_corrects += torch.sum(preds == labels.data).to(torch.float32)\n",
    "\n",
    "            epoch_loss = running_loss / dataset_sizes[phase]\n",
    "            epoch_acc = running_corrects / dataset_sizes[phase]\n",
    "\n",
    "            print('{} Loss: {:.4f} Acc: {:.4f}'.format(\n",
    "                phase, epoch_loss, epoch_acc))\n",
    "\n",
    "            # deep copy the model\n",
    "            if phase == 'val' and epoch_acc > best_acc:\n",
    "                best_acc = epoch_acc\n",
    "                best_model_wts = model.state_dict()\n",
    "            if phase == 'val':\n",
    "                valid_acc.append(epoch_acc)\n",
    "            else:\n",
    "                train_acc.append(epoch_acc)\n",
    "#         scheduler.step(valid_acc[-1])\n",
    "    elapsed_time = time.time() - start_time\n",
    "    print('Training complete in {:.0f}m {:.0f}s'.format(\n",
    "        elapsed_time // 60, elapsed_time % 60))\n",
    "    print('Best val Acc: {:4f}'.format(best_acc))\n",
    "\n",
    "    # load best model weights\n",
    "    model.load_state_dict(best_model_wts)\n",
    "  \n",
    "    return model,train_acc,valid_acc"
   ]
  },
  {
   "cell_type": "code",
   "execution_count": 4,
   "metadata": {},
   "outputs": [
    {
     "name": "stdout",
     "output_type": "stream",
     "text": [
      "Epoch 0/9\n",
      "----------\n",
      "train Loss: 0.0116 Acc: 0.8880\n",
      "val Loss: 0.0071 Acc: 0.9286\n",
      "Epoch 1/9\n",
      "----------\n",
      "train Loss: 0.0021 Acc: 0.9793\n",
      "val Loss: 0.0068 Acc: 0.9429\n",
      "Epoch 2/9\n",
      "----------\n",
      "train Loss: 0.0009 Acc: 0.9931\n",
      "val Loss: 0.0052 Acc: 0.9464\n",
      "Epoch 3/9\n",
      "----------\n",
      "train Loss: 0.0005 Acc: 0.9968\n",
      "val Loss: 0.0063 Acc: 0.9429\n",
      "Epoch 4/9\n",
      "----------\n",
      "train Loss: 0.0004 Acc: 0.9979\n",
      "val Loss: 0.0062 Acc: 0.9446\n",
      "Epoch 5/9\n",
      "----------\n",
      "train Loss: 0.0003 Acc: 0.9982\n",
      "val Loss: 0.0058 Acc: 0.9411\n",
      "Epoch 6/9\n",
      "----------\n",
      "train Loss: 0.0002 Acc: 0.9987\n",
      "val Loss: 0.0068 Acc: 0.9429\n",
      "Epoch 7/9\n",
      "----------\n",
      "train Loss: 0.0002 Acc: 0.9983\n",
      "val Loss: 0.0073 Acc: 0.9304\n",
      "Epoch 8/9\n",
      "----------\n",
      "train Loss: 0.0002 Acc: 0.9985\n",
      "val Loss: 0.0063 Acc: 0.9500\n",
      "Epoch 9/9\n",
      "----------\n",
      "train Loss: 0.0001 Acc: 0.9991\n",
      "val Loss: 0.0069 Acc: 0.9357\n",
      "Training complete in 28m 34s\n",
      "Best val Acc: 0.950000\n"
     ]
    }
   ],
   "source": [
    "\n",
    "# get model and replace the original fc layer with your fc layer\n",
    "model_ft = models.resnet50(pretrained=False)\n",
    "model_ft.load_state_dict(torch.load('./pretrained_models/resnet50-19c8e357.pth'))\n",
    "num_ftrs = model_ft.fc.in_features\n",
    "model_ft.fc = nn.Linear(num_ftrs, 10)\n",
    "\n",
    "if use_gpu:\n",
    "    model_ft = model_ft.cuda()\n",
    "\n",
    "    # define loss function\n",
    "lossfunc = nn.CrossEntropyLoss()\n",
    "\n",
    "    # setting optimizer and trainable parameters\n",
    " #   params = model_ft.parameters()\n",
    " # list(model_ft.fc.parameters())+list(model_ft.layer4.parameters())\n",
    "#params = list(model_ft.fc.parameters())+list( model_ft.parameters())\n",
    "params = list(model_ft.fc.parameters())\n",
    "optimizer_ft = optim.SGD(model_ft.parameters(), lr=0.001, momentum=0.9)\n",
    "\n",
    "# LR（学习速率）每7个epoch下降0.1\n",
    "# exp_lr_scheduler = lr_scheduler.StepLR(optimizer_ft, step_size=7, gamma=0.1)\n",
    "# exp_lr_scheduler =  lr_scheduler.MultiStepLR(optimizer_ft, milestones=[5,10,15], gamma=0.1, last_epoch=-1)\n",
    "# exp_lr_scheduler =  lr_scheduler.ExponentialLR(optimizer_ft,  gamma=0.1, last_epoch=-1)\n",
    "# exp_lr_scheduler = lr_scheduler.CosineAnnealingLR(optimizer_ft, T_max=7, eta_min=0, last_epoch=-1)\n",
    "exp_lr_scheduler = lr_scheduler.ReduceLROnPlateau(optimizer_ft, mode='min', factor=0.1, patience=10, verbose=False, threshold=0.0001, threshold_mode='rel', cooldown=0, min_lr=0, eps=1e-08)\n",
    "# exp_lr_scheduler = lr_scheduler.ReduceLROnPlateau(optimizer_ft,mode='max',patience=10,verbose=True)\n",
    "model_ft,train_acc,valid_acc = train_model(model=model_ft,\n",
    "                           lossfunc=lossfunc,\n",
    "                           optimizer=optimizer_ft,\n",
    "                           scheduler=exp_lr_scheduler,\n",
    "                           num_epochs=10)"
   ]
  },
  {
   "cell_type": "code",
   "execution_count": 7,
   "metadata": {},
   "outputs": [
    {
     "name": "stderr",
     "output_type": "stream",
     "text": [
      "INFO:matplotlib.font_manager:font search path ['/home/ma-user/anaconda3/envs/Pytorch-1.0.0/lib/python3.6/site-packages/matplotlib/mpl-data/fonts/ttf', '/home/ma-user/anaconda3/envs/Pytorch-1.0.0/lib/python3.6/site-packages/matplotlib/mpl-data/fonts/afm', '/home/ma-user/anaconda3/envs/Pytorch-1.0.0/lib/python3.6/site-packages/matplotlib/mpl-data/fonts/pdfcorefonts']\n",
      "INFO:matplotlib.font_manager:generated new fontManager\n"
     ]
    },
    {
     "data": {
      "text/plain": [
       "[]"
      ]
     },
     "execution_count": 7,
     "metadata": {},
     "output_type": "execute_result"
    },
    {
     "data": {
      "image/png": "[encoded data removed]",
      "text/plain": [
       "<Figure size 432x288 with 1 Axes>"
      ]
     },
     "metadata": {},
     "output_type": "display_data"
    }
   ],
   "source": [
    "%matplotlib inline\n",
    "import matplotlib.pylab as plt\n",
    "plt.plot(train_acc,label=\"train\")\n",
    "plt.plot(valid_acc,label='valid')\n",
    "plt.legend()\n",
    "plt.plot()"
   ]
  },
  {
   "cell_type": "code",
   "execution_count": 5,
   "metadata": {},
   "outputs": [
    {
     "name": "stdout",
     "output_type": "stream",
     "text": [
      "done\n"
     ]
    }
   ],
   "source": [
    "torch.save(model_ft.state_dict(), './model.pth')\n",
    "print(\"done\")"
   ]
  },
  {
   "cell_type": "code",
   "execution_count": 6,
   "metadata": {},
   "outputs": [
    {
     "name": "stderr",
     "output_type": "stream",
     "text": [
      "INFO:root:Using MoXing-v1.14.1-ddfd6c9a\n",
      "INFO:root:Using OBS-Python-SDK-3.1.2\n"
     ]
    },
    {
     "name": "stdout",
     "output_type": "stream",
     "text": [
      "done\n"
     ]
    }
   ],
   "source": [
    "import moxing as mox\n",
    "mox.file.copy('./model.pth','s3://obs-aifood-huqi88/model_output/model/resnet-50.pth')\n",
    "print(\"done\")"
   ]
  },
  {
   "cell_type": "code",
   "execution_count": null,
   "metadata": {},
   "outputs": [],
   "source": []
  },
  {
   "cell_type": "code",
   "execution_count": null,
   "metadata": {},
   "outputs": [],
   "source": []
  }
 ],
 "metadata": {
  "kernelspec": {
   "display_name": "Pytorch-1.0.0",
   "language": "python",
   "name": "pytorch-1.0.0"
  },
  "language_info": {
   "codemirror_mode": {
    "name": "ipython",
    "version": 3
   },
   "file_extension": ".py",
   "mimetype": "text/x-python",
   "name": "python",
   "nbconvert_exporter": "python",
   "pygments_lexer": "ipython3",
   "version": "3.6.4"
  }
 },
 "nbformat": 4,
 "nbformat_minor": 2
}
